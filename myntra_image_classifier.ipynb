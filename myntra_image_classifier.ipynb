{
 "cells": [
  {
   "cell_type": "code",
   "execution_count": 98,
   "id": "388e0ecc",
   "metadata": {},
   "outputs": [],
   "source": [
    "import os\n",
    "import pandas as pd\n",
    "import numpy as np\n",
    "from tensorflow.keras.preprocessing.image import ImageDataGenerator\n",
    "from tensorflow.keras.models import Sequential\n",
    "from tensorflow.keras.layers import Conv2D, MaxPooling2D, Flatten, Dense\n",
    "from tensorflow.keras.preprocessing.image import load_img, img_to_array\n",
    "from sklearn.preprocessing import LabelEncoder"
   ]
  },
  {
   "cell_type": "code",
   "execution_count": null,
   "id": "cc3c573c",
   "metadata": {
    "collapsed": true
   },
   "outputs": [],
   "source": []
  },
  {
   "cell_type": "code",
   "execution_count": 99,
   "id": "ecac33d1",
   "metadata": {},
   "outputs": [
    {
     "name": "stdout",
     "output_type": "stream",
     "text": [
      "      filename  gender sleeve_length\n",
      "0  Image_1.jpg  female   half_sleeve\n",
      "1  Image_2.jpg  female   full_sleeve\n",
      "2  Image_3.jpg  female   half_sleeve\n",
      "3  Image_4.jpg  female   full_sleeve\n",
      "4  Image_5.jpg    male   half_sleeve\n"
     ]
    }
   ],
   "source": [
    "\n",
    "# Load the CSV file\n",
    "csv_file = \"myntra_dataset.csv\"  # Update with your CSV file path\n",
    "data = pd.read_csv(csv_file)\n",
    "\n",
    "# Display the first few rows of the dataset\n",
    "print(data.head())"
   ]
  },
  {
   "cell_type": "code",
   "execution_count": 100,
   "id": "067bf0c6",
   "metadata": {},
   "outputs": [
    {
     "data": {
      "text/plain": [
       "(20, 3)"
      ]
     },
     "execution_count": 100,
     "metadata": {},
     "output_type": "execute_result"
    }
   ],
   "source": [
    "data.shape"
   ]
  },
  {
   "cell_type": "code",
   "execution_count": 101,
   "id": "96bc45ac",
   "metadata": {},
   "outputs": [],
   "source": [
    "# Preprocess images\n",
    "data['filename'] = data['filename'].apply(lambda x: os.path.join('C:/Users/nidhi/Desktop/Myntra_cloth_images', x))\n",
    "image_data = []\n",
    "for filename in data[\"filename\"]:\n",
    "    img = load_img(filename, target_size=(224, 224))  # Assuming image size is 224x224\n",
    "    img_array = img_to_array(img) / 255.0  # Normalize pixel values\n",
    "    image_data.append(img_array)"
   ]
  },
  {
   "cell_type": "code",
   "execution_count": 102,
   "id": "28ab4e3a",
   "metadata": {},
   "outputs": [],
   "source": [
    "# Preprocess labels\n",
    "label_encoder = LabelEncoder()\n",
    "data['gender'] = label_encoder.fit_transform(data['gender'])\n",
    "data['sleeve_length'] = label_encoder.fit_transform(data['sleeve_length'])\n"
   ]
  },
  {
   "cell_type": "code",
   "execution_count": 112,
   "id": "b4d89915",
   "metadata": {},
   "outputs": [],
   "source": [
    "# Convert data to numpy arrays\n",
    "X = np.array(image_data)\n",
    "y_gender = np.array(data['gender'])\n",
    "y_sleeve_length = np.array(data['sleeve_length'])\n"
   ]
  },
  {
   "cell_type": "code",
   "execution_count": 104,
   "id": "3bee0f06",
   "metadata": {},
   "outputs": [],
   "source": [
    "from sklearn.model_selection import train_test_split\n",
    "\n",
    "# Split the dataset into training and validation sets\n",
    "X_train, X_val, y_gender_train, y_gender_val, y_sleeve_length_train, y_sleeve_length_val = train_test_split(\n",
    "    X, y_gender, y_sleeve_length, test_size=0.2, random_state=42)\n"
   ]
  },
  {
   "cell_type": "code",
   "execution_count": 119,
   "id": "86df6d14",
   "metadata": {},
   "outputs": [
    {
     "data": {
      "text/plain": [
       "array([1, 1, 1, 0])"
      ]
     },
     "execution_count": 119,
     "metadata": {},
     "output_type": "execute_result"
    }
   ],
   "source": [
    "y_sleeve_length_val"
   ]
  },
  {
   "cell_type": "code",
   "execution_count": 155,
   "id": "1729ffe2",
   "metadata": {},
   "outputs": [],
   "source": [
    "X_train,X_test,y_gender_train,y_gender_test=train_test_split(X,y_gender,test_size=0.3,random_state=0)"
   ]
  },
  {
   "cell_type": "code",
   "execution_count": 133,
   "id": "eac6d4cb",
   "metadata": {},
   "outputs": [
    {
     "data": {
      "text/plain": [
       "(16, 224, 224, 3)"
      ]
     },
     "execution_count": 133,
     "metadata": {},
     "output_type": "execute_result"
    }
   ],
   "source": [
    "X_train.shape"
   ]
  },
  {
   "cell_type": "code",
   "execution_count": 134,
   "id": "66e8d026",
   "metadata": {},
   "outputs": [
    {
     "data": {
      "text/plain": [
       "(16,)"
      ]
     },
     "execution_count": 134,
     "metadata": {},
     "output_type": "execute_result"
    }
   ],
   "source": [
    "y_gender_train.shape"
   ]
  },
  {
   "cell_type": "code",
   "execution_count": 146,
   "id": "b1ec11a5",
   "metadata": {},
   "outputs": [],
   "source": [
    "X_train,X_test,y_sleeve_length_train,y_sleeve_length_test=train_test_split(X,y_sleeve_length,test_size=0.3,random_state=42)"
   ]
  },
  {
   "cell_type": "code",
   "execution_count": 149,
   "id": "c4043309",
   "metadata": {},
   "outputs": [
    {
     "data": {
      "text/plain": [
       "(16, 224, 224, 3)"
      ]
     },
     "execution_count": 149,
     "metadata": {},
     "output_type": "execute_result"
    }
   ],
   "source": [
    "X_train.shape"
   ]
  },
  {
   "cell_type": "code",
   "execution_count": 150,
   "id": "8f05cbde",
   "metadata": {},
   "outputs": [
    {
     "data": {
      "text/plain": [
       "(4, 224, 224, 3)"
      ]
     },
     "execution_count": 150,
     "metadata": {},
     "output_type": "execute_result"
    }
   ],
   "source": [
    "X_test.shape"
   ]
  },
  {
   "cell_type": "code",
   "execution_count": 151,
   "id": "bdc685e4",
   "metadata": {},
   "outputs": [
    {
     "data": {
      "text/plain": [
       "(16,)"
      ]
     },
     "execution_count": 151,
     "metadata": {},
     "output_type": "execute_result"
    }
   ],
   "source": [
    "y_sleeve_length_train.shape"
   ]
  },
  {
   "cell_type": "code",
   "execution_count": 105,
   "id": "69372953",
   "metadata": {},
   "outputs": [
    {
     "data": {
      "text/plain": [
       "array([1, 0, 1, 0, 0, 1, 1, 0, 1, 0, 1, 1, 0, 1, 1, 0])"
      ]
     },
     "execution_count": 105,
     "metadata": {},
     "output_type": "execute_result"
    }
   ],
   "source": [
    "y_gender_train"
   ]
  },
  {
   "cell_type": "code",
   "execution_count": 106,
   "id": "ce782467",
   "metadata": {},
   "outputs": [
    {
     "data": {
      "text/plain": [
       "array([[[[0.8       , 0.8       , 0.80784315],\n",
       "         [0.7921569 , 0.7921569 , 0.8       ],\n",
       "         [0.7764706 , 0.7764706 , 0.78431374],\n",
       "         ...,\n",
       "         [0.77254903, 0.7764706 , 0.79607844],\n",
       "         [0.77254903, 0.7764706 , 0.79607844],\n",
       "         [0.8       , 0.8039216 , 0.8235294 ]],\n",
       "\n",
       "        [[0.76862746, 0.76862746, 0.7764706 ],\n",
       "         [0.75686276, 0.75686276, 0.7647059 ],\n",
       "         [0.7411765 , 0.7411765 , 0.7490196 ],\n",
       "         ...,\n",
       "         [0.73333335, 0.7372549 , 0.75686276],\n",
       "         [0.73333335, 0.7372549 , 0.75686276],\n",
       "         [0.7607843 , 0.7647059 , 0.78431374]],\n",
       "\n",
       "        [[0.7764706 , 0.7764706 , 0.78431374],\n",
       "         [0.7647059 , 0.7647059 , 0.77254903],\n",
       "         [0.7529412 , 0.7529412 , 0.7607843 ],\n",
       "         ...,\n",
       "         [0.73333335, 0.7372549 , 0.75686276],\n",
       "         [0.73333335, 0.7372549 , 0.75686276],\n",
       "         [0.7607843 , 0.7647059 , 0.78431374]],\n",
       "\n",
       "        ...,\n",
       "\n",
       "        [[0.7137255 , 0.72156864, 0.7176471 ],\n",
       "         [0.7019608 , 0.70980394, 0.7058824 ],\n",
       "         [0.69411767, 0.7019608 , 0.69803923],\n",
       "         ...,\n",
       "         [0.5764706 , 0.5803922 , 0.5882353 ],\n",
       "         [0.58431375, 0.5882353 , 0.59607846],\n",
       "         [0.59607846, 0.6       , 0.60784316]],\n",
       "\n",
       "        [[0.7137255 , 0.72156864, 0.7176471 ],\n",
       "         [0.7019608 , 0.70980394, 0.7058824 ],\n",
       "         [0.69411767, 0.7019608 , 0.69803923],\n",
       "         ...,\n",
       "         [0.5764706 , 0.5803922 , 0.5882353 ],\n",
       "         [0.58431375, 0.5882353 , 0.59607846],\n",
       "         [0.59607846, 0.6       , 0.60784316]],\n",
       "\n",
       "        [[0.73333335, 0.7411765 , 0.7372549 ],\n",
       "         [0.7254902 , 0.73333335, 0.7294118 ],\n",
       "         [0.7137255 , 0.72156864, 0.7176471 ],\n",
       "         ...,\n",
       "         [0.5921569 , 0.59607846, 0.6039216 ],\n",
       "         [0.60784316, 0.6117647 , 0.61960787],\n",
       "         [0.61960787, 0.62352943, 0.6313726 ]]],\n",
       "\n",
       "\n",
       "       [[[1.        , 1.        , 1.        ],\n",
       "         [1.        , 1.        , 1.        ],\n",
       "         [1.        , 1.        , 1.        ],\n",
       "         ...,\n",
       "         [1.        , 1.        , 1.        ],\n",
       "         [1.        , 1.        , 1.        ],\n",
       "         [1.        , 1.        , 1.        ]],\n",
       "\n",
       "        [[1.        , 1.        , 1.        ],\n",
       "         [1.        , 1.        , 1.        ],\n",
       "         [1.        , 1.        , 1.        ],\n",
       "         ...,\n",
       "         [1.        , 1.        , 1.        ],\n",
       "         [1.        , 1.        , 1.        ],\n",
       "         [1.        , 1.        , 1.        ]],\n",
       "\n",
       "        [[1.        , 1.        , 1.        ],\n",
       "         [1.        , 1.        , 1.        ],\n",
       "         [1.        , 1.        , 1.        ],\n",
       "         ...,\n",
       "         [1.        , 1.        , 1.        ],\n",
       "         [1.        , 1.        , 1.        ],\n",
       "         [1.        , 1.        , 1.        ]],\n",
       "\n",
       "        ...,\n",
       "\n",
       "        [[1.        , 1.        , 1.        ],\n",
       "         [1.        , 1.        , 1.        ],\n",
       "         [1.        , 1.        , 1.        ],\n",
       "         ...,\n",
       "         [1.        , 1.        , 1.        ],\n",
       "         [1.        , 1.        , 1.        ],\n",
       "         [1.        , 1.        , 1.        ]],\n",
       "\n",
       "        [[1.        , 1.        , 1.        ],\n",
       "         [1.        , 1.        , 1.        ],\n",
       "         [1.        , 1.        , 1.        ],\n",
       "         ...,\n",
       "         [1.        , 1.        , 1.        ],\n",
       "         [1.        , 1.        , 1.        ],\n",
       "         [1.        , 1.        , 1.        ]],\n",
       "\n",
       "        [[1.        , 1.        , 1.        ],\n",
       "         [1.        , 1.        , 1.        ],\n",
       "         [1.        , 1.        , 1.        ],\n",
       "         ...,\n",
       "         [1.        , 1.        , 1.        ],\n",
       "         [1.        , 1.        , 1.        ],\n",
       "         [1.        , 1.        , 1.        ]]],\n",
       "\n",
       "\n",
       "       [[[1.        , 1.        , 1.        ],\n",
       "         [1.        , 1.        , 1.        ],\n",
       "         [1.        , 1.        , 1.        ],\n",
       "         ...,\n",
       "         [1.        , 1.        , 1.        ],\n",
       "         [1.        , 1.        , 1.        ],\n",
       "         [1.        , 1.        , 1.        ]],\n",
       "\n",
       "        [[1.        , 1.        , 1.        ],\n",
       "         [1.        , 1.        , 1.        ],\n",
       "         [1.        , 1.        , 1.        ],\n",
       "         ...,\n",
       "         [1.        , 1.        , 1.        ],\n",
       "         [1.        , 1.        , 1.        ],\n",
       "         [1.        , 1.        , 1.        ]],\n",
       "\n",
       "        [[1.        , 1.        , 1.        ],\n",
       "         [1.        , 1.        , 1.        ],\n",
       "         [1.        , 1.        , 1.        ],\n",
       "         ...,\n",
       "         [1.        , 1.        , 1.        ],\n",
       "         [1.        , 1.        , 1.        ],\n",
       "         [1.        , 1.        , 1.        ]],\n",
       "\n",
       "        ...,\n",
       "\n",
       "        [[1.        , 1.        , 1.        ],\n",
       "         [1.        , 1.        , 1.        ],\n",
       "         [1.        , 1.        , 1.        ],\n",
       "         ...,\n",
       "         [1.        , 1.        , 1.        ],\n",
       "         [1.        , 1.        , 1.        ],\n",
       "         [1.        , 1.        , 1.        ]],\n",
       "\n",
       "        [[1.        , 1.        , 1.        ],\n",
       "         [1.        , 1.        , 1.        ],\n",
       "         [1.        , 1.        , 1.        ],\n",
       "         ...,\n",
       "         [1.        , 1.        , 1.        ],\n",
       "         [1.        , 1.        , 1.        ],\n",
       "         [1.        , 1.        , 1.        ]],\n",
       "\n",
       "        [[1.        , 1.        , 1.        ],\n",
       "         [1.        , 1.        , 1.        ],\n",
       "         [1.        , 1.        , 1.        ],\n",
       "         ...,\n",
       "         [1.        , 1.        , 1.        ],\n",
       "         [1.        , 1.        , 1.        ],\n",
       "         [1.        , 1.        , 1.        ]]],\n",
       "\n",
       "\n",
       "       ...,\n",
       "\n",
       "\n",
       "       [[[0.69411767, 0.6862745 , 0.69803923],\n",
       "         [0.6666667 , 0.65882355, 0.67058825],\n",
       "         [0.6666667 , 0.65882355, 0.67058825],\n",
       "         ...,\n",
       "         [0.67058825, 0.64705884, 0.6627451 ],\n",
       "         [0.6862745 , 0.6627451 , 0.6784314 ],\n",
       "         [0.69803923, 0.6745098 , 0.6901961 ]],\n",
       "\n",
       "        [[0.6627451 , 0.654902  , 0.6666667 ],\n",
       "         [0.63529414, 0.627451  , 0.6392157 ],\n",
       "         [0.63529414, 0.627451  , 0.6392157 ],\n",
       "         ...,\n",
       "         [0.6392157 , 0.6156863 , 0.6313726 ],\n",
       "         [0.654902  , 0.6313726 , 0.64705884],\n",
       "         [0.6666667 , 0.6431373 , 0.65882355]],\n",
       "\n",
       "        [[0.6745098 , 0.6666667 , 0.6784314 ],\n",
       "         [0.64705884, 0.6392157 , 0.6509804 ],\n",
       "         [0.64705884, 0.6392157 , 0.6509804 ],\n",
       "         ...,\n",
       "         [0.6509804 , 0.627451  , 0.6431373 ],\n",
       "         [0.6666667 , 0.6431373 , 0.65882355],\n",
       "         [0.6784314 , 0.654902  , 0.67058825]],\n",
       "\n",
       "        ...,\n",
       "\n",
       "        [[0.62352943, 0.6       , 0.6156863 ],\n",
       "         [0.59607846, 0.57254905, 0.5882353 ],\n",
       "         [0.6       , 0.5764706 , 0.5921569 ],\n",
       "         ...,\n",
       "         [0.5803922 , 0.57254905, 0.58431375],\n",
       "         [0.59607846, 0.5882353 , 0.6       ],\n",
       "         [0.60784316, 0.6       , 0.6117647 ]],\n",
       "\n",
       "        [[0.62352943, 0.6       , 0.6156863 ],\n",
       "         [0.59607846, 0.57254905, 0.5882353 ],\n",
       "         [0.6       , 0.5764706 , 0.5921569 ],\n",
       "         ...,\n",
       "         [0.5803922 , 0.57254905, 0.58431375],\n",
       "         [0.59607846, 0.5882353 , 0.6       ],\n",
       "         [0.60784316, 0.6       , 0.6117647 ]],\n",
       "\n",
       "        [[0.6392157 , 0.6156863 , 0.6313726 ],\n",
       "         [0.627451  , 0.6039216 , 0.61960787],\n",
       "         [0.6117647 , 0.5882353 , 0.6039216 ],\n",
       "         ...,\n",
       "         [0.6039216 , 0.59607846, 0.60784316],\n",
       "         [0.6117647 , 0.6039216 , 0.6156863 ],\n",
       "         [0.61960787, 0.6117647 , 0.62352943]]],\n",
       "\n",
       "\n",
       "       [[[1.        , 1.        , 1.        ],\n",
       "         [1.        , 1.        , 1.        ],\n",
       "         [1.        , 1.        , 1.        ],\n",
       "         ...,\n",
       "         [1.        , 1.        , 1.        ],\n",
       "         [1.        , 1.        , 1.        ],\n",
       "         [1.        , 1.        , 1.        ]],\n",
       "\n",
       "        [[1.        , 1.        , 1.        ],\n",
       "         [1.        , 1.        , 1.        ],\n",
       "         [1.        , 1.        , 1.        ],\n",
       "         ...,\n",
       "         [1.        , 1.        , 1.        ],\n",
       "         [1.        , 1.        , 1.        ],\n",
       "         [1.        , 1.        , 1.        ]],\n",
       "\n",
       "        [[1.        , 1.        , 1.        ],\n",
       "         [1.        , 1.        , 1.        ],\n",
       "         [1.        , 1.        , 1.        ],\n",
       "         ...,\n",
       "         [1.        , 1.        , 1.        ],\n",
       "         [1.        , 1.        , 1.        ],\n",
       "         [1.        , 1.        , 1.        ]],\n",
       "\n",
       "        ...,\n",
       "\n",
       "        [[1.        , 1.        , 1.        ],\n",
       "         [1.        , 1.        , 1.        ],\n",
       "         [1.        , 1.        , 1.        ],\n",
       "         ...,\n",
       "         [1.        , 1.        , 1.        ],\n",
       "         [1.        , 1.        , 1.        ],\n",
       "         [1.        , 1.        , 1.        ]],\n",
       "\n",
       "        [[1.        , 1.        , 1.        ],\n",
       "         [1.        , 1.        , 1.        ],\n",
       "         [1.        , 1.        , 1.        ],\n",
       "         ...,\n",
       "         [1.        , 1.        , 1.        ],\n",
       "         [1.        , 1.        , 1.        ],\n",
       "         [1.        , 1.        , 1.        ]],\n",
       "\n",
       "        [[1.        , 1.        , 1.        ],\n",
       "         [1.        , 1.        , 1.        ],\n",
       "         [1.        , 1.        , 1.        ],\n",
       "         ...,\n",
       "         [1.        , 1.        , 1.        ],\n",
       "         [1.        , 1.        , 1.        ],\n",
       "         [1.        , 1.        , 1.        ]]],\n",
       "\n",
       "\n",
       "       [[[0.94509804, 0.9411765 , 0.93333334],\n",
       "         [0.94509804, 0.9411765 , 0.93333334],\n",
       "         [0.94509804, 0.9411765 , 0.93333334],\n",
       "         ...,\n",
       "         [0.9372549 , 0.9372549 , 0.92941177],\n",
       "         [0.9372549 , 0.9372549 , 0.92941177],\n",
       "         [0.9372549 , 0.9372549 , 0.92941177]],\n",
       "\n",
       "        [[0.94509804, 0.9411765 , 0.93333334],\n",
       "         [0.94509804, 0.9411765 , 0.93333334],\n",
       "         [0.94509804, 0.9411765 , 0.93333334],\n",
       "         ...,\n",
       "         [0.9372549 , 0.9372549 , 0.92941177],\n",
       "         [0.9372549 , 0.9372549 , 0.92941177],\n",
       "         [0.9372549 , 0.9372549 , 0.92941177]],\n",
       "\n",
       "        [[0.94509804, 0.9411765 , 0.93333334],\n",
       "         [0.94509804, 0.9411765 , 0.93333334],\n",
       "         [0.94509804, 0.9411765 , 0.93333334],\n",
       "         ...,\n",
       "         [0.9372549 , 0.9372549 , 0.92941177],\n",
       "         [0.9372549 , 0.9372549 , 0.92941177],\n",
       "         [0.9372549 , 0.9372549 , 0.92941177]],\n",
       "\n",
       "        ...,\n",
       "\n",
       "        [[0.9137255 , 0.92941177, 0.9254902 ],\n",
       "         [0.92941177, 0.8627451 , 0.8       ],\n",
       "         [0.8392157 , 0.7176471 , 0.60784316],\n",
       "         ...,\n",
       "         [0.8745098 , 0.8784314 , 0.85882354],\n",
       "         [0.8745098 , 0.8784314 , 0.85882354],\n",
       "         [0.8745098 , 0.8784314 , 0.85882354]],\n",
       "\n",
       "        [[0.9137255 , 0.84705883, 0.78431374],\n",
       "         [0.85882354, 0.7254902 , 0.61960787],\n",
       "         [0.8862745 , 0.73333335, 0.6117647 ],\n",
       "         ...,\n",
       "         [0.8745098 , 0.8784314 , 0.85882354],\n",
       "         [0.8745098 , 0.8784314 , 0.85882354],\n",
       "         [0.8745098 , 0.8784314 , 0.85882354]],\n",
       "\n",
       "        [[0.8666667 , 0.72156864, 0.60784316],\n",
       "         [0.8784314 , 0.73333335, 0.61960787],\n",
       "         [0.87058824, 0.7254902 , 0.61960787],\n",
       "         ...,\n",
       "         [0.8745098 , 0.8784314 , 0.85882354],\n",
       "         [0.8745098 , 0.8784314 , 0.85882354],\n",
       "         [0.8745098 , 0.8784314 , 0.85882354]]]], dtype=float32)"
      ]
     },
     "execution_count": 106,
     "metadata": {},
     "output_type": "execute_result"
    }
   ],
   "source": [
    "X_train"
   ]
  },
  {
   "cell_type": "raw",
   "id": "8d50ba99",
   "metadata": {},
   "source": []
  },
  {
   "cell_type": "code",
   "execution_count": 173,
   "id": "48bba536",
   "metadata": {},
   "outputs": [],
   "source": [
    "from tensorflow.keras.models import Sequential\n",
    "from tensorflow.keras.layers import Conv2D, MaxPooling2D, Flatten, Dense\n",
    "\n",
    "# model = Sequential([\n",
    "#     Conv2D(32, (3, 3), activation='relu', input_shape=(224, 224, 3)),\n",
    "#     MaxPooling2D((2, 2)),\n",
    "#     Conv2D(64, (3, 3), activation='relu'),\n",
    "#     MaxPooling2D((2, 2)),\n",
    "#     Conv2D(128, (3, 3), activation='relu'),\n",
    "#     MaxPooling2D((2, 2)),\n",
    "#     Flatten(),\n",
    "#     Dense(128, activation='relu'),\n",
    "#     Dense(1, activation='sigmoid')  # Binary classification for gender (male/female)\n",
    "# ])\n",
    "# num_classes = 4\n",
    "# model = Sequential([\n",
    "#     Conv2D(32, (3, 3), activation='relu', input_shape=(224, 224, 3)),\n",
    "#     MaxPooling2D((2, 2)),\n",
    "#     Conv2D(64, (3, 3), activation='relu'),\n",
    "#     MaxPooling2D((2, 2)),\n",
    "#     Conv2D(128, (3, 3), activation='relu'),\n",
    "#     MaxPooling2D((2, 2)),\n",
    "#     Flatten(),\n",
    "#     Dense(128, activation='relu'),\n",
    "#     Dense(1, activation='softmax')  # For multi-label classification\n",
    "# ])\n",
    "model1 = Sequential([\n",
    "    Conv2D(32, (3, 3), activation='relu', input_shape=(224, 224, 3)),\n",
    "    MaxPooling2D((2, 2)),\n",
    "    Conv2D(64, (3, 3), activation='relu'),\n",
    "    MaxPooling2D((2, 2)),\n",
    "    Conv2D(128, (3, 3), activation='relu'),\n",
    "    MaxPooling2D((2, 2)),\n",
    "    Flatten(),\n",
    "    Dense(128, activation='relu'),\n",
    "    Dense(1, activation='softmax'),  # Output for gender (2 classes: male, female)\n",
    "    Dense(1, activation='softmax')   # Output for sleeve length (2 classes: full_sleeve, half_sleeve)\n",
    "])\n",
    "model2 = Sequential([\n",
    "    Conv2D(32, (3, 3), activation='relu', input_shape=(224, 224, 3)),\n",
    "    MaxPooling2D((2, 2)),\n",
    "    Conv2D(64, (3, 3), activation='relu'),\n",
    "    MaxPooling2D((2, 2)),\n",
    "    Conv2D(128, (3, 3), activation='relu'),\n",
    "    MaxPooling2D((2, 2)),\n",
    "    Flatten(),\n",
    "    Dense(128, activation='relu'),\n",
    "    Dense(1, activation='softmax'),  # Output for gender (2 classes: male, female)\n",
    "    Dense(1, activation='softmax')\n",
    "])\n",
    "# model = Sequential([\n",
    "#     Conv2D(32, (3, 3), activation='relu', input_shape=(224, 224, 3)),\n",
    "#     MaxPooling2D((2, 2)),\n",
    "#     Conv2D(64, (3, 3), activation='relu'),\n",
    "#     MaxPooling2D((2, 2)),\n",
    "#     Flatten(),\n",
    "#     Dense(128, activation='relu'),\n",
    "#     Dense(1, activation='softmax'),  # Output for gender (2 classes: male, female)\n",
    "#        # Output for sleeve length (2 classes: full_sleeve, half_sleeve)\n",
    "# ])"
   ]
  },
  {
   "cell_type": "code",
   "execution_count": 174,
   "id": "0900e518",
   "metadata": {},
   "outputs": [],
   "source": [
    "model1.compile(optimizer='adam', loss='binary_crossentropy', metrics=['accuracy'])\n",
    "model2.compile(optimizer='adam', loss='binary_crossentropy', metrics=['accuracy'])\n"
   ]
  },
  {
   "cell_type": "code",
   "execution_count": 185,
   "id": "9902edc6",
   "metadata": {},
   "outputs": [
    {
     "name": "stdout",
     "output_type": "stream",
     "text": [
      "Epoch 1/10\n",
      "1/1 [==============================] - 4s 4s/step - loss: 0.7758 - accuracy: 0.5500\n",
      "Epoch 2/10\n",
      "1/1 [==============================] - 1s 963ms/step - loss: 0.7754 - accuracy: 0.5500\n",
      "Epoch 3/10\n",
      "1/1 [==============================] - 1s 972ms/step - loss: 0.7750 - accuracy: 0.5500\n",
      "Epoch 4/10\n",
      "1/1 [==============================] - 1s 990ms/step - loss: 0.7746 - accuracy: 0.5500\n",
      "Epoch 5/10\n",
      "1/1 [==============================] - 0s 500ms/step - loss: 0.7742 - accuracy: 0.5500\n",
      "Epoch 6/10\n",
      "1/1 [==============================] - 1s 752ms/step - loss: 0.7738 - accuracy: 0.5500\n",
      "Epoch 7/10\n",
      "1/1 [==============================] - 1s 818ms/step - loss: 0.7735 - accuracy: 0.5500\n",
      "Epoch 8/10\n",
      "1/1 [==============================] - 1s 672ms/step - loss: 0.7731 - accuracy: 0.5500\n",
      "Epoch 9/10\n",
      "1/1 [==============================] - 1s 596ms/step - loss: 0.7727 - accuracy: 0.5500\n",
      "Epoch 10/10\n",
      "1/1 [==============================] - 1s 565ms/step - loss: 0.7723 - accuracy: 0.5500\n"
     ]
    }
   ],
   "source": [
    "model1=model1.fit(X, y_gender, epochs=10)\n",
    "# model1.fit(X, y_gender, epochs=10, validation_data=(X, y_gender))"
   ]
  },
  {
   "cell_type": "code",
   "execution_count": 186,
   "id": "02d2eb6d",
   "metadata": {},
   "outputs": [
    {
     "name": "stdout",
     "output_type": "stream",
     "text": [
      "Epoch 1/10\n",
      "1/1 [==============================] - 2s 2s/step - loss: 1.2471 - accuracy: 0.6500\n",
      "Epoch 2/10\n",
      "1/1 [==============================] - 1s 954ms/step - loss: 1.2462 - accuracy: 0.6500\n",
      "Epoch 3/10\n",
      "1/1 [==============================] - 1s 995ms/step - loss: 1.2452 - accuracy: 0.6500\n",
      "Epoch 4/10\n",
      "1/1 [==============================] - 1s 710ms/step - loss: 1.2442 - accuracy: 0.6500\n",
      "Epoch 5/10\n",
      "1/1 [==============================] - 1s 964ms/step - loss: 1.2432 - accuracy: 0.6500\n",
      "Epoch 6/10\n",
      "1/1 [==============================] - 1s 810ms/step - loss: 1.2423 - accuracy: 0.6500\n",
      "Epoch 7/10\n",
      "1/1 [==============================] - 1s 683ms/step - loss: 1.2413 - accuracy: 0.6500\n",
      "Epoch 8/10\n",
      "1/1 [==============================] - 1s 700ms/step - loss: 1.2403 - accuracy: 0.6500\n",
      "Epoch 9/10\n",
      "1/1 [==============================] - 1s 670ms/step - loss: 1.2393 - accuracy: 0.6500\n",
      "Epoch 10/10\n",
      "1/1 [==============================] - 1s 601ms/step - loss: 1.2384 - accuracy: 0.6500\n"
     ]
    }
   ],
   "source": [
    "model2=model2.fit(X, y_sleeve_length, epochs=10)"
   ]
  },
  {
   "cell_type": "code",
   "execution_count": 181,
   "id": "e3e024d5",
   "metadata": {},
   "outputs": [
    {
     "name": "stdout",
     "output_type": "stream",
     "text": [
      "1/1 [==============================] - 0s 137ms/step - loss: 0.7758 - accuracy: 0.5500\n",
      "Accuracy: 0.550000011920929\n"
     ]
    }
   ],
   "source": [
    "loss, accuracy = model1.evaluate(X, y_gender)\n",
    "print(\"Accuracy:\", accuracy)"
   ]
  },
  {
   "cell_type": "code",
   "execution_count": 166,
   "id": "895e31c1",
   "metadata": {},
   "outputs": [
    {
     "name": "stdout",
     "output_type": "stream",
     "text": [
      "WARNING:tensorflow:6 out of the last 10 calls to <function Model.make_predict_function.<locals>.predict_function at 0x000001E80413E550> triggered tf.function retracing. Tracing is expensive and the excessive number of tracings could be due to (1) creating @tf.function repeatedly in a loop, (2) passing tensors with different shapes, (3) passing Python objects instead of tensors. For (1), please define your @tf.function outside of the loop. For (2), @tf.function has reduce_retracing=True option that can avoid unnecessary retracing. For (3), please refer to https://www.tensorflow.org/guide/function#controlling_retracing and https://www.tensorflow.org/api_docs/python/tf/function for  more details.\n",
      "1/1 [==============================] - 0s 106ms/step\n"
     ]
    },
    {
     "data": {
      "text/plain": [
       "array([[0.50386083],\n",
       "       [0.50386083],\n",
       "       [0.50386083],\n",
       "       [0.50386083],\n",
       "       [0.50386083],\n",
       "       [0.50386083]], dtype=float32)"
      ]
     },
     "execution_count": 166,
     "metadata": {},
     "output_type": "execute_result"
    }
   ],
   "source": [
    "predictions = model.predict(X_test)\n",
    "predictions"
   ]
  },
  {
   "cell_type": "code",
   "execution_count": 167,
   "id": "12bf9f3d",
   "metadata": {},
   "outputs": [
    {
     "data": {
      "text/plain": [
       "array([0, 0, 0, 1, 1, 1])"
      ]
     },
     "execution_count": 167,
     "metadata": {},
     "output_type": "execute_result"
    }
   ],
   "source": [
    "y_gender_test"
   ]
  },
  {
   "cell_type": "code",
   "execution_count": 113,
   "id": "60da070c",
   "metadata": {},
   "outputs": [],
   "source": [
    "model.save(\"myntra_classifier.h5\")"
   ]
  },
  {
   "cell_type": "code",
   "execution_count": 114,
   "id": "87256ce4",
   "metadata": {},
   "outputs": [],
   "source": [
    "from tensorflow.keras.models import load_model\n",
    "\n",
    "model = load_model(\"myntra_classifier.h5\")"
   ]
  },
  {
   "cell_type": "code",
   "execution_count": 170,
   "id": "e0ad7072",
   "metadata": {},
   "outputs": [
    {
     "data": {
      "text/plain": [
       "1    11\n",
       "0     9\n",
       "Name: gender, dtype: int64"
      ]
     },
     "execution_count": 170,
     "metadata": {},
     "output_type": "execute_result"
    }
   ],
   "source": [
    "data.gender.value_counts()"
   ]
  },
  {
   "cell_type": "code",
   "execution_count": 171,
   "id": "7d248340",
   "metadata": {},
   "outputs": [
    {
     "data": {
      "text/plain": [
       "1    13\n",
       "0     7\n",
       "Name: sleeve_length, dtype: int64"
      ]
     },
     "execution_count": 171,
     "metadata": {},
     "output_type": "execute_result"
    }
   ],
   "source": [
    "data. sleeve_length.value_counts()\n"
   ]
  },
  {
   "cell_type": "code",
   "execution_count": 187,
   "id": "e7210e0e",
   "metadata": {},
   "outputs": [
    {
     "name": "stderr",
     "output_type": "stream",
     "text": [
      "WARNING:absl:Found untraced functions such as _jit_compiled_convolution_op, _jit_compiled_convolution_op, _jit_compiled_convolution_op while saving (showing 3 of 3). These functions will not be directly callable after loading.\n"
     ]
    },
    {
     "name": "stdout",
     "output_type": "stream",
     "text": [
      "INFO:tensorflow:Assets written to: ram://5310f5ea-9a46-4dff-9a02-a5ea0fc3360c/assets\n"
     ]
    },
    {
     "name": "stderr",
     "output_type": "stream",
     "text": [
      "INFO:tensorflow:Assets written to: ram://5310f5ea-9a46-4dff-9a02-a5ea0fc3360c/assets\n",
      "WARNING:absl:Found untraced functions such as _jit_compiled_convolution_op, _jit_compiled_convolution_op, _jit_compiled_convolution_op while saving (showing 3 of 3). These functions will not be directly callable after loading.\n"
     ]
    },
    {
     "name": "stdout",
     "output_type": "stream",
     "text": [
      "INFO:tensorflow:Assets written to: ram://ecf1c389-3e0d-487d-93b6-0197459c3618/assets\n"
     ]
    },
    {
     "name": "stderr",
     "output_type": "stream",
     "text": [
      "INFO:tensorflow:Assets written to: ram://ecf1c389-3e0d-487d-93b6-0197459c3618/assets\n"
     ]
    }
   ],
   "source": [
    "import pickle\n",
    "\n",
    "# Save the model to a file\n",
    "with open('model1.pkl', 'wb') as f:\n",
    "    pickle.dump(model1, f)\n",
    "with open('model2.pkl', 'wb') as f:\n",
    "    pickle.dump(model2, f) "
   ]
  },
  {
   "cell_type": "code",
   "execution_count": null,
   "id": "bf8505fb",
   "metadata": {},
   "outputs": [],
   "source": []
  }
 ],
 "metadata": {
  "kernelspec": {
   "display_name": "Python 3 (ipykernel)",
   "language": "python",
   "name": "python3"
  },
  "language_info": {
   "codemirror_mode": {
    "name": "ipython",
    "version": 3
   },
   "file_extension": ".py",
   "mimetype": "text/x-python",
   "name": "python",
   "nbconvert_exporter": "python",
   "pygments_lexer": "ipython3",
   "version": "3.9.13"
  }
 },
 "nbformat": 4,
 "nbformat_minor": 5
}
